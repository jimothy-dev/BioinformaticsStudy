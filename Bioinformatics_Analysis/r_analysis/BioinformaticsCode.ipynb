{
 "cells": [
  {
   "cell_type": "markdown",
   "id": "ffb51f74-4502-4fc3-af5c-51fa7af32799",
   "metadata": {},
   "source": [
    "## Running this Jupyter Notebook will create two pdfs:\n",
    "### * One named \"upset_plots_group_b.pdf\", containing 12 volcano plots. One for each knockout method per gene (3 * 4 = 12).\n",
    "### * One named \"volcano_plots_group_b.pdf\", containing 4 upset plots showing the variation of DEGs between each knockout method per studied gene."
   ]
  },
  {
   "cell_type": "code",
   "execution_count": 1,
   "id": "76cdad5c-d7ed-4f45-8d2e-d575975e9941",
   "metadata": {
    "scrolled": true,
    "vscode": {
     "languageId": "r"
    }
   },
   "outputs": [
    {
     "name": "stderr",
     "output_type": "stream",
     "text": [
      "Bioconductor version '3.18' is out-of-date; the current release version '3.20'\n",
      "  is available with R version '4.4'; see https://bioconductor.org/install\n",
      "\n",
      "'getOption(\"repos\")' replaces Bioconductor standard repositories, see\n",
      "'help(\"repositories\", package = \"BiocManager\")' for details.\n",
      "Replacement repositories:\n",
      "    CRAN: https://cran.r-project.org\n",
      "\n",
      "Bioconductor version 3.18 (BiocManager 1.30.25), R 4.3.3 (2024-02-29)\n",
      "\n",
      "Old packages: 'askpass', 'backports', 'bit', 'bit64', 'bitops', 'broom',\n",
      "  'bslib', 'caret', 'class', 'cli', 'clock', 'colorspace', 'commonmark',\n",
      "  'cpp11', 'crayon', 'credentials', 'curl', 'data.table', 'DBI', 'dials',\n",
      "  'downlit', 'e1071', 'evaluate', 'fontawesome', 'forecast', 'fs', 'future',\n",
      "  'future.apply', 'gert', 'gower', 'gtable', 'hardhat', 'hexbin', 'highr',\n",
      "  'httr2', 'ipred', 'jsonlite', 'KernSmooth', 'knitr', 'later', 'lava', 'lhs',\n",
      "  'lubridate', 'modeldata', 'modelenv', 'nlme', 'nnet', 'openssl',\n",
      "  'parallelly', 'parsnip', 'patchwork', 'pbdZMQ', 'pillar', 'pkgbuild',\n",
      "  'pkgdown', 'pkgload', 'processx', 'prodlim', 'profvis', 'progressr',\n",
      "  'promises', 'ps', 'purrr', 'R6', 'ragg', 'randomForest', 'Rcpp',\n",
      "  'RcppArmadillo', 'RCurl', 'readxl', 'recipes', 'reprex', 'rlang',\n",
      "  'rmarkdown', 'RODBC', 'roxygen2', 'rpart', 'RSQLite', 'rstudioapi',\n",
      "  'sessioninfo', 'shiny', 'slider', 'survival', 'sys', 'systemfonts',\n",
      "  'testthat', 'textshaping', 'tidymodels', 'timeDate', 'tinytex', 'tseries',\n",
      "  'tune', 'urca', 'usethis', 'uuid', 'waldo', 'withr', 'workflows', 'xfun',\n",
      "  'xml2', 'xts', 'yaml', 'yardstick', 'zip', 'zoo'\n",
      "\n",
      "'getOption(\"repos\")' replaces Bioconductor standard repositories, see\n",
      "'help(\"repositories\", package = \"BiocManager\")' for details.\n",
      "Replacement repositories:\n",
      "    CRAN: https://cran.r-project.org\n",
      "\n",
      "Bioconductor version 3.18 (BiocManager 1.30.25), R 4.3.3 (2024-02-29)\n",
      "\n",
      "Warning message:\n",
      "“package(s) not installed when version(s) same as or greater than current; use\n",
      "  `force = TRUE` to re-install: 'ggplot2'”\n",
      "Old packages: 'askpass', 'backports', 'bit', 'bit64', 'bitops', 'broom',\n",
      "  'bslib', 'caret', 'class', 'cli', 'clock', 'colorspace', 'commonmark',\n",
      "  'cpp11', 'crayon', 'credentials', 'curl', 'data.table', 'DBI', 'dials',\n",
      "  'downlit', 'e1071', 'evaluate', 'fontawesome', 'forecast', 'fs', 'future',\n",
      "  'future.apply', 'gert', 'gower', 'gtable', 'hardhat', 'hexbin', 'highr',\n",
      "  'httr2', 'ipred', 'jsonlite', 'KernSmooth', 'knitr', 'later', 'lava', 'lhs',\n",
      "  'lubridate', 'modeldata', 'modelenv', 'nlme', 'nnet', 'openssl',\n",
      "  'parallelly', 'parsnip', 'patchwork', 'pbdZMQ', 'pillar', 'pkgbuild',\n",
      "  'pkgdown', 'pkgload', 'processx', 'prodlim', 'profvis', 'progressr',\n",
      "  'promises', 'ps', 'purrr', 'R6', 'ragg', 'randomForest', 'Rcpp',\n",
      "  'RcppArmadillo', 'RCurl', 'readxl', 'recipes', 'reprex', 'rlang',\n",
      "  'rmarkdown', 'RODBC', 'roxygen2', 'rpart', 'RSQLite', 'rstudioapi',\n",
      "  'sessioninfo', 'shiny', 'slider', 'survival', 'sys', 'systemfonts',\n",
      "  'testthat', 'textshaping', 'tidymodels', 'timeDate', 'tinytex', 'tseries',\n",
      "  'tune', 'urca', 'usethis', 'uuid', 'waldo', 'withr', 'workflows', 'xfun',\n",
      "  'xml2', 'xts', 'yaml', 'yardstick', 'zip', 'zoo'\n",
      "\n",
      "'getOption(\"repos\")' replaces Bioconductor standard repositories, see\n",
      "'help(\"repositories\", package = \"BiocManager\")' for details.\n",
      "Replacement repositories:\n",
      "    CRAN: https://cran.r-project.org\n",
      "\n",
      "Bioconductor version 3.18 (BiocManager 1.30.25), R 4.3.3 (2024-02-29)\n",
      "\n",
      "Warning message:\n",
      "“package(s) not installed when version(s) same as or greater than current; use\n",
      "  `force = TRUE` to re-install: 'DESeq2'”\n",
      "Old packages: 'askpass', 'backports', 'bit', 'bit64', 'bitops', 'broom',\n",
      "  'bslib', 'caret', 'class', 'cli', 'clock', 'colorspace', 'commonmark',\n",
      "  'cpp11', 'crayon', 'credentials', 'curl', 'data.table', 'DBI', 'dials',\n",
      "  'downlit', 'e1071', 'evaluate', 'fontawesome', 'forecast', 'fs', 'future',\n",
      "  'future.apply', 'gert', 'gower', 'gtable', 'hardhat', 'hexbin', 'highr',\n",
      "  'httr2', 'ipred', 'jsonlite', 'KernSmooth', 'knitr', 'later', 'lava', 'lhs',\n",
      "  'lubridate', 'modeldata', 'modelenv', 'nlme', 'nnet', 'openssl',\n",
      "  'parallelly', 'parsnip', 'patchwork', 'pbdZMQ', 'pillar', 'pkgbuild',\n",
      "  'pkgdown', 'pkgload', 'processx', 'prodlim', 'profvis', 'progressr',\n",
      "  'promises', 'ps', 'purrr', 'R6', 'ragg', 'randomForest', 'Rcpp',\n",
      "  'RcppArmadillo', 'RCurl', 'readxl', 'recipes', 'reprex', 'rlang',\n",
      "  'rmarkdown', 'RODBC', 'roxygen2', 'rpart', 'RSQLite', 'rstudioapi',\n",
      "  'sessioninfo', 'shiny', 'slider', 'survival', 'sys', 'systemfonts',\n",
      "  'testthat', 'textshaping', 'tidymodels', 'timeDate', 'tinytex', 'tseries',\n",
      "  'tune', 'urca', 'usethis', 'uuid', 'waldo', 'withr', 'workflows', 'xfun',\n",
      "  'xml2', 'xts', 'yaml', 'yardstick', 'zip', 'zoo'\n",
      "\n",
      "'getOption(\"repos\")' replaces Bioconductor standard repositories, see\n",
      "'help(\"repositories\", package = \"BiocManager\")' for details.\n",
      "Replacement repositories:\n",
      "    CRAN: https://cran.r-project.org\n",
      "\n",
      "Bioconductor version 3.18 (BiocManager 1.30.25), R 4.3.3 (2024-02-29)\n",
      "\n",
      "Warning message:\n",
      "“package(s) not installed when version(s) same as or greater than current; use\n",
      "  `force = TRUE` to re-install: 'rtracklayer'”\n",
      "Old packages: 'askpass', 'backports', 'bit', 'bit64', 'bitops', 'broom',\n",
      "  'bslib', 'caret', 'class', 'cli', 'clock', 'colorspace', 'commonmark',\n",
      "  'cpp11', 'crayon', 'credentials', 'curl', 'data.table', 'DBI', 'dials',\n",
      "  'downlit', 'e1071', 'evaluate', 'fontawesome', 'forecast', 'fs', 'future',\n",
      "  'future.apply', 'gert', 'gower', 'gtable', 'hardhat', 'hexbin', 'highr',\n",
      "  'httr2', 'ipred', 'jsonlite', 'KernSmooth', 'knitr', 'later', 'lava', 'lhs',\n",
      "  'lubridate', 'modeldata', 'modelenv', 'nlme', 'nnet', 'openssl',\n",
      "  'parallelly', 'parsnip', 'patchwork', 'pbdZMQ', 'pillar', 'pkgbuild',\n",
      "  'pkgdown', 'pkgload', 'processx', 'prodlim', 'profvis', 'progressr',\n",
      "  'promises', 'ps', 'purrr', 'R6', 'ragg', 'randomForest', 'Rcpp',\n",
      "  'RcppArmadillo', 'RCurl', 'readxl', 'recipes', 'reprex', 'rlang',\n",
      "  'rmarkdown', 'RODBC', 'roxygen2', 'rpart', 'RSQLite', 'rstudioapi',\n",
      "  'sessioninfo', 'shiny', 'slider', 'survival', 'sys', 'systemfonts',\n",
      "  'testthat', 'textshaping', 'tidymodels', 'timeDate', 'tinytex', 'tseries',\n",
      "  'tune', 'urca', 'usethis', 'uuid', 'waldo', 'withr', 'workflows', 'xfun',\n",
      "  'xml2', 'xts', 'yaml', 'yardstick', 'zip', 'zoo'\n",
      "\n",
      "'getOption(\"repos\")' replaces Bioconductor standard repositories, see\n",
      "'help(\"repositories\", package = \"BiocManager\")' for details.\n",
      "Replacement repositories:\n",
      "    CRAN: https://cran.r-project.org\n",
      "\n",
      "Bioconductor version 3.18 (BiocManager 1.30.25), R 4.3.3 (2024-02-29)\n",
      "\n",
      "Warning message:\n",
      "“package(s) not installed when version(s) same as or greater than current; use\n",
      "  `force = TRUE` to re-install: 'GenomicRanges'”\n",
      "Old packages: 'askpass', 'backports', 'bit', 'bit64', 'bitops', 'broom',\n",
      "  'bslib', 'caret', 'class', 'cli', 'clock', 'colorspace', 'commonmark',\n",
      "  'cpp11', 'crayon', 'credentials', 'curl', 'data.table', 'DBI', 'dials',\n",
      "  'downlit', 'e1071', 'evaluate', 'fontawesome', 'forecast', 'fs', 'future',\n",
      "  'future.apply', 'gert', 'gower', 'gtable', 'hardhat', 'hexbin', 'highr',\n",
      "  'httr2', 'ipred', 'jsonlite', 'KernSmooth', 'knitr', 'later', 'lava', 'lhs',\n",
      "  'lubridate', 'modeldata', 'modelenv', 'nlme', 'nnet', 'openssl',\n",
      "  'parallelly', 'parsnip', 'patchwork', 'pbdZMQ', 'pillar', 'pkgbuild',\n",
      "  'pkgdown', 'pkgload', 'processx', 'prodlim', 'profvis', 'progressr',\n",
      "  'promises', 'ps', 'purrr', 'R6', 'ragg', 'randomForest', 'Rcpp',\n",
      "  'RcppArmadillo', 'RCurl', 'readxl', 'recipes', 'reprex', 'rlang',\n",
      "  'rmarkdown', 'RODBC', 'roxygen2', 'rpart', 'RSQLite', 'rstudioapi',\n",
      "  'sessioninfo', 'shiny', 'slider', 'survival', 'sys', 'systemfonts',\n",
      "  'testthat', 'textshaping', 'tidymodels', 'timeDate', 'tinytex', 'tseries',\n",
      "  'tune', 'urca', 'usethis', 'uuid', 'waldo', 'withr', 'workflows', 'xfun',\n",
      "  'xml2', 'xts', 'yaml', 'yardstick', 'zip', 'zoo'\n",
      "\n",
      "'getOption(\"repos\")' replaces Bioconductor standard repositories, see\n",
      "'help(\"repositories\", package = \"BiocManager\")' for details.\n",
      "Replacement repositories:\n",
      "    CRAN: https://cran.r-project.org\n",
      "\n",
      "Bioconductor version 3.18 (BiocManager 1.30.25), R 4.3.3 (2024-02-29)\n",
      "\n",
      "Warning message:\n",
      "“package(s) not installed when version(s) same as or greater than current; use\n",
      "  `force = TRUE` to re-install: 'sva'”\n",
      "Old packages: 'askpass', 'backports', 'bit', 'bit64', 'bitops', 'broom',\n",
      "  'bslib', 'caret', 'class', 'cli', 'clock', 'colorspace', 'commonmark',\n",
      "  'cpp11', 'crayon', 'credentials', 'curl', 'data.table', 'DBI', 'dials',\n",
      "  'downlit', 'e1071', 'evaluate', 'fontawesome', 'forecast', 'fs', 'future',\n",
      "  'future.apply', 'gert', 'gower', 'gtable', 'hardhat', 'hexbin', 'highr',\n",
      "  'httr2', 'ipred', 'jsonlite', 'KernSmooth', 'knitr', 'later', 'lava', 'lhs',\n",
      "  'lubridate', 'modeldata', 'modelenv', 'nlme', 'nnet', 'openssl',\n",
      "  'parallelly', 'parsnip', 'patchwork', 'pbdZMQ', 'pillar', 'pkgbuild',\n",
      "  'pkgdown', 'pkgload', 'processx', 'prodlim', 'profvis', 'progressr',\n",
      "  'promises', 'ps', 'purrr', 'R6', 'ragg', 'randomForest', 'Rcpp',\n",
      "  'RcppArmadillo', 'RCurl', 'readxl', 'recipes', 'reprex', 'rlang',\n",
      "  'rmarkdown', 'RODBC', 'roxygen2', 'rpart', 'RSQLite', 'rstudioapi',\n",
      "  'sessioninfo', 'shiny', 'slider', 'survival', 'sys', 'systemfonts',\n",
      "  'testthat', 'textshaping', 'tidymodels', 'timeDate', 'tinytex', 'tseries',\n",
      "  'tune', 'urca', 'usethis', 'uuid', 'waldo', 'withr', 'workflows', 'xfun',\n",
      "  'xml2', 'xts', 'yaml', 'yardstick', 'zip', 'zoo'\n",
      "\n",
      "Updating HTML index of packages in '.Library'\n",
      "\n",
      "Making 'packages.html' ...\n",
      " done\n",
      "\n",
      "Updating HTML index of packages in '.Library'\n",
      "\n",
      "Making 'packages.html' ...\n",
      " done\n",
      "\n"
     ]
    }
   ],
   "source": [
    "# Ensure that the BiocManager package is installed.\n",
    "# BiocManager is required to install and manage Bioconductor packages.\n",
    "if (!require(\"BiocManager\", quietly = TRUE))\n",
    "    install.packages(\"BiocManager\")\n",
    "# Install or update Bioconductor to version 3.18.\n",
    "BiocManager::install(version = \"3.18\")\n",
    "# Install data visualization package\n",
    "BiocManager::install(\"ggplot2\")\n",
    "# Install differential gene expression analysis package\n",
    "BiocManager::install(\"DESeq2\")\n",
    "# Install package for importing and exporting genomic data in various formats\n",
    "BiocManager::install(\"rtracklayer\")\n",
    "# Install package for representing and manipulating genomic intervals\n",
    "BiocManager::install(\"GenomicRanges\")\n",
    "# Install package for batch effect identification and correction.\n",
    "BiocManager::install(\"sva\")\n",
    "# Install package for labelling volcano plots\n",
    "install.packages(\"ggrepel\")\n",
    "# Install package for creating UpSet plots to better visualize the differences in each types DEGs\n",
    "install.packages('UpSetR')"
   ]
  },
  {
   "cell_type": "code",
   "execution_count": 2,
   "id": "ea7eef9f-d0e0-4867-ac18-13ee1332ecd3",
   "metadata": {
    "scrolled": true,
    "vscode": {
     "languageId": "r"
    }
   },
   "outputs": [
    {
     "name": "stderr",
     "output_type": "stream",
     "text": [
      "Loading required package: S4Vectors\n",
      "\n",
      "Loading required package: stats4\n",
      "\n",
      "Loading required package: BiocGenerics\n",
      "\n",
      "\n",
      "Attaching package: ‘BiocGenerics’\n",
      "\n",
      "\n",
      "The following objects are masked from ‘package:stats’:\n",
      "\n",
      "    IQR, mad, sd, var, xtabs\n",
      "\n",
      "\n",
      "The following objects are masked from ‘package:base’:\n",
      "\n",
      "    anyDuplicated, aperm, append, as.data.frame, basename, cbind,\n",
      "    colnames, dirname, do.call, duplicated, eval, evalq, Filter, Find,\n",
      "    get, grep, grepl, intersect, is.unsorted, lapply, Map, mapply,\n",
      "    match, mget, order, paste, pmax, pmax.int, pmin, pmin.int,\n",
      "    Position, rank, rbind, Reduce, rownames, sapply, setdiff, sort,\n",
      "    table, tapply, union, unique, unsplit, which.max, which.min\n",
      "\n",
      "\n",
      "\n",
      "Attaching package: ‘S4Vectors’\n",
      "\n",
      "\n",
      "The following object is masked from ‘package:utils’:\n",
      "\n",
      "    findMatches\n",
      "\n",
      "\n",
      "The following objects are masked from ‘package:base’:\n",
      "\n",
      "    expand.grid, I, unname\n",
      "\n",
      "\n",
      "Loading required package: IRanges\n",
      "\n",
      "Loading required package: GenomicRanges\n",
      "\n",
      "Loading required package: GenomeInfoDb\n",
      "\n",
      "Loading required package: SummarizedExperiment\n",
      "\n",
      "Loading required package: MatrixGenerics\n",
      "\n",
      "Loading required package: matrixStats\n",
      "\n",
      "\n",
      "Attaching package: ‘MatrixGenerics’\n",
      "\n",
      "\n",
      "The following objects are masked from ‘package:matrixStats’:\n",
      "\n",
      "    colAlls, colAnyNAs, colAnys, colAvgsPerRowSet, colCollapse,\n",
      "    colCounts, colCummaxs, colCummins, colCumprods, colCumsums,\n",
      "    colDiffs, colIQRDiffs, colIQRs, colLogSumExps, colMadDiffs,\n",
      "    colMads, colMaxs, colMeans2, colMedians, colMins, colOrderStats,\n",
      "    colProds, colQuantiles, colRanges, colRanks, colSdDiffs, colSds,\n",
      "    colSums2, colTabulates, colVarDiffs, colVars, colWeightedMads,\n",
      "    colWeightedMeans, colWeightedMedians, colWeightedSds,\n",
      "    colWeightedVars, rowAlls, rowAnyNAs, rowAnys, rowAvgsPerColSet,\n",
      "    rowCollapse, rowCounts, rowCummaxs, rowCummins, rowCumprods,\n",
      "    rowCumsums, rowDiffs, rowIQRDiffs, rowIQRs, rowLogSumExps,\n",
      "    rowMadDiffs, rowMads, rowMaxs, rowMeans2, rowMedians, rowMins,\n",
      "    rowOrderStats, rowProds, rowQuantiles, rowRanges, rowRanks,\n",
      "    rowSdDiffs, rowSds, rowSums2, rowTabulates, rowVarDiffs, rowVars,\n",
      "    rowWeightedMads, rowWeightedMeans, rowWeightedMedians,\n",
      "    rowWeightedSds, rowWeightedVars\n",
      "\n",
      "\n",
      "Loading required package: Biobase\n",
      "\n",
      "Welcome to Bioconductor\n",
      "\n",
      "    Vignettes contain introductory material; view with\n",
      "    'browseVignettes()'. To cite Bioconductor, see\n",
      "    'citation(\"Biobase\")', and for packages 'citation(\"pkgname\")'.\n",
      "\n",
      "\n",
      "\n",
      "Attaching package: ‘Biobase’\n",
      "\n",
      "\n",
      "The following object is masked from ‘package:MatrixGenerics’:\n",
      "\n",
      "    rowMedians\n",
      "\n",
      "\n",
      "The following objects are masked from ‘package:matrixStats’:\n",
      "\n",
      "    anyMissing, rowMedians\n",
      "\n",
      "\n",
      "Loading required package: mgcv\n",
      "\n",
      "Loading required package: nlme\n",
      "\n",
      "\n",
      "Attaching package: ‘nlme’\n",
      "\n",
      "\n",
      "The following object is masked from ‘package:IRanges’:\n",
      "\n",
      "    collapse\n",
      "\n",
      "\n",
      "This is mgcv 1.9-1. For overview type 'help(\"mgcv-package\")'.\n",
      "\n",
      "Loading required package: genefilter\n",
      "\n",
      "\n",
      "Attaching package: ‘genefilter’\n",
      "\n",
      "\n",
      "The following objects are masked from ‘package:MatrixGenerics’:\n",
      "\n",
      "    rowSds, rowVars\n",
      "\n",
      "\n",
      "The following objects are masked from ‘package:matrixStats’:\n",
      "\n",
      "    rowSds, rowVars\n",
      "\n",
      "\n",
      "Loading required package: BiocParallel\n",
      "\n"
     ]
    }
   ],
   "source": [
    "# Load the required libraries for data analysis and visualization.\n",
    "library(ggplot2)\n",
    "library(DESeq2)\n",
    "library(sva)\n",
    "library(ggrepel)\n",
    "library(UpSetR)"
   ]
  },
  {
   "cell_type": "markdown",
   "id": "26a908d1-3eee-4128-b98b-fc51123eb560",
   "metadata": {},
   "source": [
    "#### Study 2- RNA-seq of male KOLF2.2J hiPSC-derived trophoblast cell lines homozygous null for seven different transcription factors. \n",
    "##### GEO Accession Number: GSE288289"
   ]
  },
  {
   "cell_type": "code",
   "execution_count": 3,
   "id": "25881516-bcbb-46cf-bfa5-42c7d8ec469b",
   "metadata": {
    "vscode": {
     "languageId": "r"
    }
   },
   "outputs": [],
   "source": [
    "# Read in raw count file\n",
    "raw_cnts = read.csv(\"GSE288289_study2_genesRawCounts.csv\",\n",
    "                     header=TRUE,\n",
    "                     sep=\"\\t\",\n",
    "                     row.names=1,\n",
    "                     strip.white=TRUE)\n",
    "# Read in metadata file\n",
    "meta_data = read.csv(\"metadata_study2.csv\",\n",
    "                      header=TRUE,\n",
    "                      stringsAsFactors=FALSE)"
   ]
  },
  {
   "cell_type": "markdown",
   "id": "b5705f95-b4b5-4688-a6b7-871c3dbc1bf5",
   "metadata": {},
   "source": [
    "#### Gene annotations generated using https://biit.cs.ut.ee/gprofiler/convert\n",
    "\n",
    "        Liis Kolberg, Uku Raudvere, Ivan Kuzmin, Priit Adler, Jaak Vilo, Hedi Peterson: g:Profiler—interoperable web service for functional enrichment<br />\n",
    "        analysis and gene identifier mapping (2023 update) Nucleic Acids Research, May 2023; doi:10.1093/nar/gkad347 [PDF]. <br />"
   ]
  },
  {
   "cell_type": "code",
   "execution_count": 4,
   "id": "88b382e8-315e-4c54-8f02-ebe0aeddde6a",
   "metadata": {
    "vscode": {
     "languageId": "r"
    }
   },
   "outputs": [],
   "source": [
    "# Load gene annotation data\n",
    "gene_annotations = read.csv(\"gene_annotations.csv\",\n",
    "                      header=TRUE,\n",
    "                      stringsAsFactors=FALSE)"
   ]
  },
  {
   "cell_type": "markdown",
   "id": "44741bb4-a82e-43eb-9ef2-f4a5c4a52a7e",
   "metadata": {},
   "source": [
    "#### Make necessary adjustments to match row/columns of meta data and counts and other data cleaning."
   ]
  },
  {
   "cell_type": "code",
   "execution_count": 5,
   "id": "a01095cc-371e-4adb-b17b-9e5c96e4a413",
   "metadata": {
    "scrolled": true,
    "vscode": {
     "languageId": "r"
    }
   },
   "outputs": [
    {
     "data": {
      "text/plain": [
       "\n",
       "TRUE \n",
       "  82 "
      ]
     },
     "metadata": {},
     "output_type": "display_data"
    },
    {
     "data": {
      "text/html": [
       "<style>\n",
       ".list-inline {list-style: none; margin:0; padding: 0}\n",
       ".list-inline>li {display: inline-block}\n",
       ".list-inline>li:not(:last-child)::after {content: \"\\00b7\"; padding: 0 .5ex}\n",
       "</style>\n",
       "<ol class=list-inline><li>38592</li><li>82</li></ol>\n"
      ],
      "text/latex": [
       "\\begin{enumerate*}\n",
       "\\item 38592\n",
       "\\item 82\n",
       "\\end{enumerate*}\n"
      ],
      "text/markdown": [
       "1. 38592\n",
       "2. 82\n",
       "\n",
       "\n"
      ],
      "text/plain": [
       "[1] 38592    82"
      ]
     },
     "metadata": {},
     "output_type": "display_data"
    },
    {
     "data": {
      "text/html": [
       "<style>\n",
       ".list-inline {list-style: none; margin:0; padding: 0}\n",
       ".list-inline>li {display: inline-block}\n",
       ".list-inline>li:not(:last-child)::after {content: \"\\00b7\"; padding: 0 .5ex}\n",
       "</style>\n",
       "<ol class=list-inline><li>82</li><li>2</li></ol>\n"
      ],
      "text/latex": [
       "\\begin{enumerate*}\n",
       "\\item 82\n",
       "\\item 2\n",
       "\\end{enumerate*}\n"
      ],
      "text/markdown": [
       "1. 82\n",
       "2. 2\n",
       "\n",
       "\n"
      ],
      "text/plain": [
       "[1] 82  2"
      ]
     },
     "metadata": {},
     "output_type": "display_data"
    }
   ],
   "source": [
    "# Set row names for meta_data using the Sample column\n",
    "# This ensures that each row in meta_data is indexed by its corresponding sample name\n",
    "rownames(meta_data) = meta_data$Sample\n",
    "\n",
    "# Standardize column names in raw_cnts:\n",
    "# Remove trailing sequencing lane identifiers (_LXXX) from column names\n",
    "colnames(raw_cnts) <- gsub(\"_L\\\\d{3}$\", \"\", colnames(raw_cnts))\n",
    "# Replace dots (.) with hyphens (-) in column names\n",
    "colnames(raw_cnts) <- gsub(\"\\\\.\", \"-\", colnames(raw_cnts))\n",
    "# Remove leading and trailing whitespace from row names and the Gene column in meta_data\n",
    "rownames(meta_data) <- trimws(meta_data$Sample)\n",
    "meta_data$Gene <- trimws(meta_data$Gene)\n",
    "# Verify that all row names in meta_data exist in the column names of raw_cnts\n",
    "table(rownames(meta_data) %in% colnames(raw_cnts))\n",
    "# Subset raw_cnts to include only columns that match the samples in meta_data\n",
    "raw_cnts = raw_cnts[,rownames(meta_data)]\n",
    "# Subset meta_data to include only columns used\n",
    "meta_data <- subset(meta_data, select=-c(GEO.Accession, Scheme, Sample))\n",
    "\n",
    "\n",
    "# Display the dimensions (rows x columns) of raw_cnts and meta_data\n",
    "dim(raw_cnts)\n",
    "dim(meta_data)\n",
    "\n",
    "# Round raw counts to the nearest integer. \n",
    "# This is necessary for differential expression analysis, as DESeq2 requires integer counts\n",
    "raw_cnts <- round(raw_cnts)"
   ]
  },
  {
   "cell_type": "markdown",
   "id": "c37b622c-fce1-4fdf-b80b-bec08c3d666b",
   "metadata": {},
   "source": [
    "#### Filter the dataset to focus specifically on the four genes of interest (MXD1, NC0A3, RUNX1, BMLHE40)"
   ]
  },
  {
   "cell_type": "code",
   "execution_count": 6,
   "id": "4b0cf559-b2d6-4279-a1d3-f7cee84831d7",
   "metadata": {
    "scrolled": true,
    "vscode": {
     "languageId": "r"
    }
   },
   "outputs": [],
   "source": [
    "# Filter metadata to include only samples from specified gene types\n",
    "# The \"Type\" column should be one of the following: \"KO\", \"WT\", \"CE\", or \"PTC\"\n",
    "sample_counts <- table(meta_data$Gene[meta_data$Type %in% c(\"KO\", \"WT\", \"CE\", \"PTC\")], \n",
    "                                meta_data$Type[meta_data$Type %in% c(\"KO\", \"WT\", \"CE\", \"PTC\")])\n",
    "\n",
    "# Identify genes with adequate representation across sample types\n",
    "# A gene is considered valid if it has at least 3 samples per comparison group\n",
    "valid_genes <- rownames(sample_counts)[apply(sample_counts, 1, function(x) all(x >= 3))]\n",
    "\n",
    "# Define a list of genes of interest for analysis\n",
    "selected_genes <- c(\"MXD1\", \"NCOA3\", \"RUNX1\", \"BHLHE40\")\n",
    "\n",
    "# Initialize lists to store results\n",
    "results_list <- list()"
   ]
  },
  {
   "cell_type": "markdown",
   "id": "641f9b0f-cc99-46aa-8dc6-2976a7329c0d",
   "metadata": {},
   "source": [
    "#### <b>encode_types_as_factors:</b>  encode type vector in given meta_data as a factor, setting reference level to WT (Wild Type/Control) and return edited meta_data."
   ]
  },
  {
   "cell_type": "code",
   "execution_count": 7,
   "id": "2289b472-4dc8-4cc8-ab6d-21c2b5c5de1c",
   "metadata": {},
   "outputs": [],
   "source": [
    "encode_types_as_factors <- function (meta_data) {\n",
    "    meta_data$Type <- factor(meta_data$Type, levels=c(\"WT\", \"KO\", \"CE\", \"PTC\"))\n",
    "    meta_data$Type <- relevel(meta_data$Type, ref=\"WT\")\n",
    "    return(meta_data)\n",
    "}"
   ]
  },
  {
   "cell_type": "markdown",
   "id": "a7b5b4e2-ba09-45a4-a1d4-a74feb20ea22",
   "metadata": {},
   "source": [
    "#### <b>filter_low_count_genes:</b>  return given counts without genes that dont have at least 10 counts in at least 3 samples filtered out.\n",
    "    taken directly from DESeq2 vignette"
   ]
  },
  {
   "cell_type": "code",
   "execution_count": 8,
   "id": "d3de63c3-4ed8-4837-9454-08a582f48a58",
   "metadata": {},
   "outputs": [],
   "source": [
    "filter_low_count_genes <- function (raw_cnts, smallestGroupSize = 3, minCounts = 10) {\n",
    "    keep <- rowSums(raw_cnts >= minCounts) >= smallestGroupSize\n",
    "    raw_cnts <- as.matrix(raw_cnts[keep, , drop = FALSE])\n",
    "    return(raw_cnts)\n",
    "}"
   ]
  },
  {
   "cell_type": "markdown",
   "id": "82155570-21cc-49f9-a42b-f9bba0c03cc6",
   "metadata": {},
   "source": [
    "#### <b>dataset_and_analysis:</b>  returns a DESeq data set with given counts and meta data, setting design to type (must be column in meta_data). Runs DESeq() analysis on dataset, which performs the following functions:\n",
    "    estimation of size factors with estimateSizeFactors()\n",
    "    estimation of dispersion with estimateDispersions()\n",
    "    Negative Binomial GLM fitting and Wald statistics with nbinomWaldTest()"
   ]
  },
  {
   "cell_type": "code",
   "execution_count": 9,
   "id": "6b646b3d-73d8-4603-bb17-bcc94f7d0773",
   "metadata": {},
   "outputs": [],
   "source": [
    "dataset_and_analysis <- function (raw_cnts, meta_data) {\n",
    "    dds <- DESeqDataSetFromMatrix(countData = raw_cnts,\n",
    "                                  colData = meta_data,\n",
    "                                  design = ~ Type)\n",
    "    dds <- DESeq(dds)\n",
    "    return(dds)\n",
    "}"
   ]
  },
  {
   "cell_type": "markdown",
   "id": "6813445c-d0cf-4257-bfe1-3f242bfe8ef4",
   "metadata": {},
   "source": [
    "#### <b>extract_results:</b>  return a list of result tables for each default contrast other than intercept."
   ]
  },
  {
   "cell_type": "code",
   "execution_count": 10,
   "id": "8555ec74-e174-4888-9a3c-84fcf0bbeb14",
   "metadata": {},
   "outputs": [],
   "source": [
    "extract_results <- function (dds) {\n",
    "    return(list(\n",
    "        KO = results(dds, name=\"Type_KO_vs_WT\"),\n",
    "        CE = results(dds, name=\"Type_CE_vs_WT\"),\n",
    "        PTC = results(dds, name=\"Type_PTC_vs_WT\"))\n",
    "    )\n",
    "}"
   ]
  },
  {
   "cell_type": "markdown",
   "id": "b92f8851-95fe-4956-a2eb-1231171e58c9",
   "metadata": {},
   "source": [
    "#### <b>Perform filtering, encoding, and analysis of each gene with at least 3 samples for each type, ensuring biological replicates for each type.</b>\n",
    "#### - List of results for each gene are stored in a parent list, results_list, individually accessible by gene name.         \n",
    "  i.e. results_list[[\"MXD1\"]] "
   ]
  },
  {
   "cell_type": "code",
   "execution_count": null,
   "id": "63bdaeb5-16a0-4c08-8aaa-f63d458323e6",
   "metadata": {
    "scrolled": true
   },
   "outputs": [
    {
     "name": "stderr",
     "output_type": "stream",
     "text": [
      "converting counts to integer mode\n",
      "\n",
      "estimating size factors\n",
      "\n",
      "estimating dispersions\n",
      "\n",
      "gene-wise dispersion estimates\n",
      "\n"
     ]
    }
   ],
   "source": [
    "for (gene in selected_genes) {\n",
    "    # select only samples of current gene\n",
    "    filtered_meta_data <- meta_data[meta_data$Gene %in% c(gene), ]\n",
    "    filtered_raw_cnts <- raw_cnts[, colnames(raw_cnts) %in% rownames(filtered_meta_data)]\n",
    "\n",
    "    # prepare and filter data\n",
    "    filtered_meta_data <- encode_types_as_factors(filtered_meta_data)\n",
    "    filtered_raw_cnts <- filter_low_count_genes(filtered_raw_cnts)\n",
    "\n",
    "    # create data set, run analysis, and store results \n",
    "    dds <- dataset_and_analysis(filtered_raw_cnts, filtered_meta_data)\n",
    "    results_list[[gene]] <- extract_results(dds)\n",
    "    \n",
    "    # Print information about the filtered dataset for each gene\n",
    "    cat(\"Gene:\", gene, \"\\n\")\n",
    "    cat(\"Filtered metadata dimensions:\", dim(filtered_meta_data), \"\\n\")\n",
    "    cat(\"Filtered raw counts dimensions:\", dim(filtered_raw_cnts), \"\\n\")\n",
    "}"
   ]
  },
  {
   "cell_type": "markdown",
   "id": "8b821f5f-2f47-495e-8df9-bb0faa40ccb5",
   "metadata": {},
   "source": [
    "#### <b>find_significant_genes:</b> given a DESeq results table, create dataframe with gene name annotations, and return list containing said dataframe, along with three other dataframes containing all significant DEGs, "
   ]
  },
  {
   "cell_type": "code",
   "execution_count": null,
   "id": "9e0c52ce-003a-4d07-9371-a1e807698b8c",
   "metadata": {
    "vscode": {
     "languageId": "r"
    }
   },
   "outputs": [],
   "source": [
    "# Parameters:\n",
    "# - DESeq_results: A DESeq2 result object containing log2 fold changes and adjusted p-values\n",
    "# - method: A string representing the method used (for labeling output)\n",
    "# - l2fc_threshold: Log2 fold change threshold to classify significant genes (default = 0.5)\n",
    "# - padj_threshold: Adjusted p-value threshold to classify significant genes (default = 0.05)\n",
    "find_significant_genes <- function(DESeq_results, method, l2fc_threshold = 0.5, padj_threshold = 0.05) {\n",
    "    \n",
    "    # Convert DESeq2 results into a data frame and add gene names\n",
    "    df <- as.data.frame(DESeq_results)\n",
    "    df$gene <- rownames(df)\n",
    "\n",
    "    # Merge with gene annotation data to obtain human-readable gene names\n",
    "    df <- merge(df, gene_annotations[, c(\"initial_alias\", \"name\")],\n",
    "                by.x = \"gene\", by.y = \"initial_alias\", all.x = TRUE)\n",
    "    \n",
    "    # Identify significant differentially expressed genes (DEGs)\n",
    "    # Genes are considered significant if:\n",
    "    # - log2FoldChange > l2fc_threshold AND padj < padj_threshold (Upregulated)\n",
    "    # - log2FoldChange < -l2fc_threshold AND padj < padj_threshold (Downregulated)\n",
    "    significant_genes <- subset(df, ((log2FoldChange > l2fc_threshold & padj < padj_threshold) |\n",
    "                                     (log2FoldChange < -l2fc_threshold & padj < padj_threshold)))\n",
    "\n",
    "    # Sort significant genes:\n",
    "    # - By log2 fold change (descending) to highlight most up/downregulated genes\n",
    "    # - By adjusted p-value (ascending) to highlight most statistically significant genes\n",
    "    sorted_by_l2fc_sig <- significant_genes[order(significant_genes$log2FoldChange, decreasing = TRUE), ]\n",
    "    sorted_by_padj_sig <- significant_genes[order(significant_genes$padj), ]\n",
    "\n",
    "    # Select genes to label on volcano plots:\n",
    "    # - Top 5 most upregulated and 5 most downregulated genes by log2FoldChange\n",
    "    # - Top 10 most statistically significant genes by padj\n",
    "    labelled_genes <- c(sorted_by_l2fc_sig$name[1:5], sorted_by_l2fc_sig$name[(nrow(sorted_by_l2fc_sig) - 4):nrow(sorted_by_l2fc_sig)])\n",
    "    labelled_genes <- unique(c(labelled_genes, sorted_by_padj_sig$name[1:10]))\n",
    "\n",
    "    # Remove \"None\" labels (if any gene names are missing in annotations)\n",
    "    labelled_genes <- labelled_genes[labelled_genes != \"None\"]\n",
    "    \n",
    "    # Add a new column to classify genes based on significance:\n",
    "    df$Significant <- \"NO\"  # Default: Not significant\n",
    "    df$Significant[df$log2FoldChange > l2fc_threshold & df$padj < padj_threshold] <- \"UP\"   # Upregulated genes\n",
    "    df$Significant[df$log2FoldChange < -l2fc_threshold & df$padj < padj_threshold] <- \"DOWN\" # Downregulated genes\n",
    "    \n",
    "    # Store results in a list for easy retrieval and use in downstream analysis\n",
    "    ret_list <- list(\n",
    "        method = method,                # Method used for analysis\n",
    "        res_df = df,                     # Complete results data frame\n",
    "        significant_genes = significant_genes,  # Filtered DEGs\n",
    "        sorted_by_l2fc = sorted_by_l2fc_sig,    # DEGs sorted by log2FC\n",
    "        sorted_by_padj = sorted_by_padj_sig,    # DEGs sorted by adjusted p-value\n",
    "        labelled_genes = labelled_genes        # Selected genes for volcano plot labeling\n",
    "    )\n",
    "\n",
    "    return(ret_list)\n",
    "}\n"
   ]
  },
  {
   "cell_type": "markdown",
   "id": "cd52377c-d4de-4f79-930e-f59a253abef7",
   "metadata": {},
   "source": [
    "### Processing DESeq Results into Organized Data for Each Gene and Comparison"
   ]
  },
  {
   "cell_type": "code",
   "execution_count": null,
   "id": "09f33db9-c0da-47dd-a3ad-5fe57a1bea28",
   "metadata": {},
   "outputs": [],
   "source": [
    "names(results_list[[\"MXD1\"]])"
   ]
  },
  {
   "cell_type": "code",
   "execution_count": null,
   "id": "7de4256a-934e-4ec4-a044-5a9815d664be",
   "metadata": {
    "scrolled": true,
    "vscode": {
     "languageId": "r"
    }
   },
   "outputs": [],
   "source": [
    "processed_results_list <- list()\n",
    "\n",
    "# Loop through each selected gene, processing DESeq results for every comparison type (KO, CE, PTC)\n",
    "for (gene in selected_genes) {\n",
    "  processed_results_list[[gene]] <- lapply(names(results_list[[gene]]), function(comparison_type) {\n",
    "    find_significant_genes(\n",
    "      DESeq_results = results_list[[gene]][[comparison_type]],\n",
    "      method = paste(gene, comparison_type, \"vs_WT\", sep = \"_\")\n",
    "    )\n",
    "  })\n",
    "\n",
    "  # Clearly label each comparison within the gene\n",
    "  names(processed_results_list[[gene]]) <- names(results_list[[gene]])\n",
    "}\n",
    "\n",
    "# Example access:\n",
    "head(processed_results_list[[\"NC0A3\"]][[\"KO\"]])\n"
   ]
  },
  {
   "cell_type": "markdown",
   "id": "31430516-2279-42b7-9b64-378c27aee4c7",
   "metadata": {},
   "source": [
    "#### <b>volcano_plot_from_res_df:</b> creates a volcano plot to visualize differentially expressed genes (DEGs) from the DESeq2 results, highlighting all significant genes, and labelling genes with high log2FoldChange or adjusted p-values."
   ]
  },
  {
   "cell_type": "code",
   "execution_count": null,
   "id": "0c54ce18-d7ca-4709-bf87-a66100492a3c",
   "metadata": {
    "vscode": {
     "languageId": "r"
    }
   },
   "outputs": [],
   "source": [
    "# Parameters:\n",
    "# - res_df: Data frame containing DESeq2 results, including log2FoldChange and adjusted p-values\n",
    "# - labelled_genes: A character vector of genes to be specifically labeled in the plot\n",
    "# - title: Title for the volcano plot\n",
    "# - ylim: Maximum y-axis value (for scaling the plot)\n",
    "# - xlim: Maximum x-axis value (for scaling the plot)\n",
    "# - l2fc_threshold: Log2 fold change threshold for significance (default = 0.5)\n",
    "# - padj_threshold: Adjusted p-value threshold for significance (default = 0.05)\n",
    "\n",
    "volcano_plot_from_res_df <- function(res_df, labelled_genes, title, ylim, xlim, l2fc_threshold = 0.5, padj_threshold = 0.05) {\n",
    "    \n",
    "    # Subset data to include only genes that are specifically labeled in the plot\n",
    "    labelled_data <- subset(res_df, name %in% labelled_genes)\n",
    "\n",
    "    # Create a volcano plot using ggplot2\n",
    "    plot <- ggplot(res_df, aes(x=log2FoldChange, y=-log10(padj), color=Significant, label=name)) +\n",
    "        \n",
    "        # Scatter plot of all genes, with transparency for better visualization\n",
    "        geom_point(alpha=0.4) +\n",
    "        \n",
    "        # Assign colors: \n",
    "        #   - \"DOWN\" (significantly downregulated genes) in blue\n",
    "        #   - \"NO\" (non-significant genes) in gray\n",
    "        #   - \"UP\" (significantly upregulated genes) in red\n",
    "        scale_color_manual(values=c(\"DOWN\"=\"blue\", \"NO\"=\"gray\", \"UP\"=\"red\")) +\n",
    "        \n",
    "        # Add vertical dashed lines to indicate log2FoldChange significance thresholds\n",
    "        geom_vline(xintercept=c(-l2fc_threshold, l2fc_threshold), linetype=\"dashed\", color=\"red\") +\n",
    "        \n",
    "        # Add a horizontal dashed line to indicate the adjusted p-value threshold\n",
    "        geom_hline(yintercept=-log10(padj_threshold), linetype=\"dashed\", color=\"blue\") +\n",
    "        \n",
    "        # Add gene labels for selected genes, avoiding overlapping labels\n",
    "        geom_label_repel(aes(label = ifelse(name %in% labelled_genes, as.character(name), '')),\n",
    "                    box.padding   = 1,    # Space around labels\n",
    "                    point.padding = 0,    # Space between label and point\n",
    "                    segment.color = 'grey50', # Line color connecting label to point\n",
    "                    show_guide = FALSE) + # Hide guide\n",
    "       \n",
    "        # Set the plot title\n",
    "        ggtitle(title) +\n",
    "\n",
    "        # Set y-axis and x-axis limits\n",
    "        ylim(0, ylim) + \n",
    "        xlim(-xlim, xlim)\n",
    "}\n"
   ]
  },
  {
   "cell_type": "markdown",
   "id": "727f1c08-f559-4afb-8dd9-19d0f47dab4a",
   "metadata": {},
   "source": [
    "### Generating and Storing Volcano Plots for Each Gene and Comparison"
   ]
  },
  {
   "cell_type": "code",
   "execution_count": null,
   "id": "7bad2e2e-6c08-4ab0-968a-9e31c259e2c8",
   "metadata": {
    "scrolled": true,
    "vscode": {
     "languageId": "r"
    }
   },
   "outputs": [],
   "source": [
    "# Set maximum label overlaps for ggrepel to improve label placement in volcano plots\n",
    "options(ggrepel.max.overlaps = 100)\n",
    "\n",
    "# Initialize an empty list to store volcano plots\n",
    "plot_list <- list()\n",
    "\n",
    "# Loop through each gene to generate volcano plots for all comparison types (KO, CE, PTC) vs WT\n",
    "for (gene in names(processed_results_list)) {\n",
    "  \n",
    "  # Create a nested list for storing plots for each gene\n",
    "  plot_list[[gene]] <- list()\n",
    "\n",
    "  # Generate volcano plots for each specific comparison (KO, CE, PTC) vs WT\n",
    "  for (comparison in names(processed_results_list[[gene]])) {\n",
    "    \n",
    "    # Extract processed DESeq2 result data for the current gene and comparison\n",
    "    current_data <- processed_results_list[[gene]][[comparison]]\n",
    "    \n",
    "    # Create a title for the volcano plot\n",
    "    plot_title <- paste(gene, comparison, \"vs WT\")\n",
    "\n",
    "    # give space for labels for BHLHE40 gene\n",
    "    if (gene == \"BHLHE40\") {\n",
    "    x <- 4\n",
    "    y <- 45\n",
    "    } else {\n",
    "    x <- 3\n",
    "    y <- 35\n",
    "    }\n",
    "      \n",
    "    # Generate the volcano plot and store it in the plot_list\n",
    "    plot_list[[gene]][[comparison]] <- volcano_plot_from_res_df(\n",
    "      res_df = current_data$res_df,         # Processed DESeq2 results data frame\n",
    "      labelled_genes = current_data$labelled_genes,  # Selected significant genes for labeling\n",
    "      title = plot_title,                   # Title of the plot\n",
    "      xlim = x,                             # X-axis limits (log2FoldChange)\n",
    "      ylim = y                             # Y-axis limits (-log10(padj))\n",
    "    )\n",
    "  }\n",
    "}\n"
   ]
  },
  {
   "cell_type": "code",
   "execution_count": null,
   "id": "5548c3c9-c58c-4d83-b9c8-a03ca490d938",
   "metadata": {},
   "outputs": [],
   "source": [
    "upset_plot_list <- list()\n",
    "for (gene in names(processed_results_list)) {\n",
    "    all_significant_genes <- unique(c(processed_results_list[[gene]][[\"KO\"]][[\"significant_genes\"]]$gene, \n",
    "                                  processed_results_list[[gene]][[\"CE\"]][[\"significant_genes\"]]$gene, \n",
    "                                  processed_results_list[[gene]][[\"PTC\"]][[\"significant_genes\"]]$gene))\n",
    "    \n",
    "    KO_set <- sapply(all_significant_genes, function(x) ifelse(x %in% processed_results_list[[gene]][[\"KO\"]][[\"significant_genes\"]]$gene, 1, 0))\n",
    "    CE_set <- sapply(all_significant_genes, function(x) ifelse(x %in% processed_results_list[[gene]][[\"CE\"]][[\"significant_genes\"]]$gene, 1, 0))\n",
    "    PTC_set <- sapply(all_significant_genes, function(x) ifelse(x %in% processed_results_list[[gene]][[\"PTC\"]][[\"significant_genes\"]]$gene, 1, 0))\n",
    "    upset_df <- data.frame(all_significant_genes, KO_set, CE_set, PTC_set)\n",
    "    # Set row names as gene names for easy reference\n",
    "    rownames(upset_df) <- all_significant_genes\n",
    "    \n",
    "    # Remove the first column (gene names) to keep only the binary presence/absence data\n",
    "    upset_df <- upset_df[,-1]\n",
    "    colnames(upset_df) <- c(\"KO\", \"CE\", \"PTC\")\n",
    "    \n",
    "    # Create the plot with the title indicating the gene\n",
    "    upset_plot_list[[gene]] <- upset(upset_df,\n",
    "                                    point.size = 2.5,\n",
    "                                    line.size = 1.5,\n",
    "                                    text.scale = 1.6,\n",
    "                                    mainbar.y.label = paste(gene, \"DEGs\", sep = \" \")\n",
    "                                    )\n",
    "}"
   ]
  },
  {
   "cell_type": "code",
   "execution_count": null,
   "id": "76dede16-0921-4d0a-8d34-7c00495b1f28",
   "metadata": {
    "scrolled": true,
    "vscode": {
     "languageId": "r"
    }
   },
   "outputs": [],
   "source": [
    "# Define the file path for saving the volcano plots as a PDF\n",
    "# 'getwd()' retrieves the current working directory, and 'file.path()' ensures proper file path formatting\n",
    "volcano_plots_path <- file.path(getwd(), \"volcano_plots_group_b.pdf\")\n",
    "\n",
    "# Open a PDF device to save plots. All plots printed after this will be directed to this PDF file\n",
    "pdf(volcano_plots_path)\n",
    "\n",
    "# Loop through all genes and their respective comparison plots\n",
    "for (gene in names(plot_list)) {\n",
    "  for (comparison in names(plot_list[[gene]])) {\n",
    "    \n",
    "    # Print the volcano plot for the current gene and comparison\n",
    "    # Since the PDF device is active, this will write the plot to the file instead of displaying it in Jupyter\n",
    "    print(plot_list[[gene]][[comparison]])\n",
    "  }\n",
    "}\n",
    "\n",
    "# Close the PDF device to finalize the file\n",
    "dev.off()\n"
   ]
  },
  {
   "cell_type": "code",
   "execution_count": null,
   "id": "ef91394f-fa07-4fb3-9d41-d133be897c69",
   "metadata": {},
   "outputs": [],
   "source": [
    "upset_plot_path <- file.path(getwd(), \"upset_plots_group_b.pdf\")\n",
    "\n",
    "pdf(upset_plot_path, height = 8, width = 12)\n",
    "\n",
    "upset_plot_list\n",
    "\n",
    "dev.off()"
   ]
  },
  {
   "cell_type": "markdown",
   "id": "cf346d90-a991-4883-9e5a-21f75476a154",
   "metadata": {},
   "source": [
    "## Batch Correction -\n",
    "#### As the results when including batch effects in the design of the DESeq2 model were drastically different not only from our own plots, but from plots found on the MorPhiC data portal, we decided to not inlcude them in our final analysis.\n",
    "\n",
    "#### The following is the workflow necessary for including surrogate variables in the design using the gene \"BHLHE40\" as an example. The workflow is practically one-to-one with the DESeq2-svaseq workflow vignette found here:\n",
    "\n",
    "https://master.bioconductor.org/packages/release/workflows/vignettes/rnaseqGene/inst/doc/rnaseqGene.html#using-sva-with-deseq2"
   ]
  },
  {
   "cell_type": "code",
   "execution_count": null,
   "id": "f5c9e9b4-d159-4093-a894-8de7c7d02d66",
   "metadata": {},
   "outputs": [],
   "source": [
    "# Uses last known value of dds, which would be the BHLHE40 dds as it's the last one done in the loop.\n",
    "dat <- counts(dds, normalized = TRUE)\n",
    "idx <- rowMeans(dat) > 1\n",
    "dat <- dat[idx,]\n",
    "mod <- model.matrix(~ Type, colData(dds))\n",
    "mod0 <- model.matrix(~ 1, colData(dds))\n",
    "svseq <- svaseq(dat, mod, mod0)\n",
    "ddssva <- dds\n",
    "ddssva$SV1 <- svseq$sv[,1]"
   ]
  },
  {
   "cell_type": "code",
   "execution_count": null,
   "id": "376d5486-a59d-446c-bd39-011f694f3eff",
   "metadata": {},
   "outputs": [],
   "source": [
    "design(ddssva) <- ~ SV1 + Type\n",
    "ddssva <- DESeq(ddssva)\n",
    "\n",
    "# Now, results from the ddssva object will be batch corrected."
   ]
  },
  {
   "cell_type": "markdown",
   "id": "0e0e37b8-84ec-4b96-aca1-3ac059285d04",
   "metadata": {},
   "source": [
    "### Citations for packages used"
   ]
  },
  {
   "cell_type": "code",
   "execution_count": null,
   "id": "3ff3076f-5b28-417e-be8a-d09f34b69833",
   "metadata": {
    "scrolled": true,
    "vscode": {
     "languageId": "r"
    }
   },
   "outputs": [],
   "source": [
    "# List of packages\n",
    "packages <- c(\"BiocManager\", \"ggplot2\", \"DESeq2\", \"rtracklayer\", \n",
    "              \"GenomicRanges\", \"sva\", \"ggrepel\", \"UpSetR\")\n",
    "\n",
    "# Get citations for each package\n",
    "for (pkg in packages) {\n",
    "  cat(\"\\nCitation for\", pkg, \":\\n\")\n",
    "  print(citation(pkg))\n",
    "  cat(\"\\n--------------------------------------------\\n\")\n",
    "}"
   ]
  }
 ],
 "metadata": {
  "kernelspec": {
   "display_name": "R",
   "language": "R",
   "name": "ir"
  },
  "language_info": {
   "codemirror_mode": "r",
   "file_extension": ".r",
   "mimetype": "text/x-r-source",
   "name": "R",
   "pygments_lexer": "r",
   "version": "4.3.3"
  }
 },
 "nbformat": 4,
 "nbformat_minor": 5
}
